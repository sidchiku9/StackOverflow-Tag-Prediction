{
 "cells": [
  {
   "cell_type": "markdown",
   "id": "07087157",
   "metadata": {},
   "source": [
    "## Multi Label Classification of Stack Overflow tags - basis of what we are trying to achieve"
   ]
  },
  {
   "cell_type": "code",
   "execution_count": 1,
   "id": "bd3c03ea",
   "metadata": {},
   "outputs": [],
   "source": [
    "import pandas as pd\n",
    "import numpy as np"
   ]
  },
  {
   "cell_type": "code",
   "execution_count": 2,
   "id": "c8337d04",
   "metadata": {},
   "outputs": [],
   "source": [
    "df = pd.read_csv('https://raw.githubusercontent.com/laxmimerit/All-CSV-ML-Data-Files-Download/master/stackoverflow.csv', index_col=0)"
   ]
  },
  {
   "cell_type": "code",
   "execution_count": 3,
   "id": "2f236ee7",
   "metadata": {},
   "outputs": [
    {
     "data": {
      "text/html": [
       "<div>\n",
       "<style scoped>\n",
       "    .dataframe tbody tr th:only-of-type {\n",
       "        vertical-align: middle;\n",
       "    }\n",
       "\n",
       "    .dataframe tbody tr th {\n",
       "        vertical-align: top;\n",
       "    }\n",
       "\n",
       "    .dataframe thead th {\n",
       "        text-align: right;\n",
       "    }\n",
       "</style>\n",
       "<table border=\"1\" class=\"dataframe\">\n",
       "  <thead>\n",
       "    <tr style=\"text-align: right;\">\n",
       "      <th></th>\n",
       "      <th>Text</th>\n",
       "      <th>Tags</th>\n",
       "    </tr>\n",
       "  </thead>\n",
       "  <tbody>\n",
       "    <tr>\n",
       "      <th>2</th>\n",
       "      <td>aspnet site maps has anyone got experience cre...</td>\n",
       "      <td>['sql', 'asp.net']</td>\n",
       "    </tr>\n",
       "    <tr>\n",
       "      <th>4</th>\n",
       "      <td>adding scripting functionality to net applicat...</td>\n",
       "      <td>['c#', '.net']</td>\n",
       "    </tr>\n",
       "    <tr>\n",
       "      <th>5</th>\n",
       "      <td>should i use nested classes in this case i am ...</td>\n",
       "      <td>['c++']</td>\n",
       "    </tr>\n",
       "    <tr>\n",
       "      <th>6</th>\n",
       "      <td>homegrown consumption of web services i have b...</td>\n",
       "      <td>['.net']</td>\n",
       "    </tr>\n",
       "    <tr>\n",
       "      <th>8</th>\n",
       "      <td>automatically update version number i would li...</td>\n",
       "      <td>['c#']</td>\n",
       "    </tr>\n",
       "  </tbody>\n",
       "</table>\n",
       "</div>"
      ],
      "text/plain": [
       "                                                Text                Tags\n",
       "2  aspnet site maps has anyone got experience cre...  ['sql', 'asp.net']\n",
       "4  adding scripting functionality to net applicat...      ['c#', '.net']\n",
       "5  should i use nested classes in this case i am ...             ['c++']\n",
       "6  homegrown consumption of web services i have b...            ['.net']\n",
       "8  automatically update version number i would li...              ['c#']"
      ]
     },
     "execution_count": 3,
     "metadata": {},
     "output_type": "execute_result"
    }
   ],
   "source": [
    "df.head()"
   ]
  },
  {
   "cell_type": "markdown",
   "id": "595ff4ac",
   "metadata": {},
   "source": [
    "### Tags from STRING to LIST uses the AST library for better processing of the tags"
   ]
  },
  {
   "cell_type": "code",
   "execution_count": 4,
   "id": "e205aec3",
   "metadata": {},
   "outputs": [],
   "source": [
    "import ast"
   ]
  },
  {
   "cell_type": "code",
   "execution_count": 5,
   "id": "195c18d1",
   "metadata": {},
   "outputs": [
    {
     "data": {
      "text/plain": [
       "\"['sql', 'asp.net']\""
      ]
     },
     "execution_count": 5,
     "metadata": {},
     "output_type": "execute_result"
    }
   ],
   "source": [
    "df['Tags'].iloc[0]"
   ]
  },
  {
   "cell_type": "code",
   "execution_count": 6,
   "id": "ead4814e",
   "metadata": {},
   "outputs": [
    {
     "data": {
      "text/plain": [
       "['sql', 'asp.net']"
      ]
     },
     "execution_count": 6,
     "metadata": {},
     "output_type": "execute_result"
    }
   ],
   "source": [
    "ast.literal_eval(df.Tags.iloc[0])"
   ]
  },
  {
   "cell_type": "code",
   "execution_count": 7,
   "id": "fc751398",
   "metadata": {},
   "outputs": [],
   "source": [
    "df['Tags'] = df['Tags'].apply(lambda x : ast.literal_eval(x))"
   ]
  },
  {
   "cell_type": "code",
   "execution_count": 8,
   "id": "12be8392",
   "metadata": {},
   "outputs": [
    {
     "data": {
      "text/html": [
       "<div>\n",
       "<style scoped>\n",
       "    .dataframe tbody tr th:only-of-type {\n",
       "        vertical-align: middle;\n",
       "    }\n",
       "\n",
       "    .dataframe tbody tr th {\n",
       "        vertical-align: top;\n",
       "    }\n",
       "\n",
       "    .dataframe thead th {\n",
       "        text-align: right;\n",
       "    }\n",
       "</style>\n",
       "<table border=\"1\" class=\"dataframe\">\n",
       "  <thead>\n",
       "    <tr style=\"text-align: right;\">\n",
       "      <th></th>\n",
       "      <th>Text</th>\n",
       "      <th>Tags</th>\n",
       "    </tr>\n",
       "  </thead>\n",
       "  <tbody>\n",
       "    <tr>\n",
       "      <th>2</th>\n",
       "      <td>aspnet site maps has anyone got experience cre...</td>\n",
       "      <td>[sql, asp.net]</td>\n",
       "    </tr>\n",
       "    <tr>\n",
       "      <th>4</th>\n",
       "      <td>adding scripting functionality to net applicat...</td>\n",
       "      <td>[c#, .net]</td>\n",
       "    </tr>\n",
       "    <tr>\n",
       "      <th>5</th>\n",
       "      <td>should i use nested classes in this case i am ...</td>\n",
       "      <td>[c++]</td>\n",
       "    </tr>\n",
       "    <tr>\n",
       "      <th>6</th>\n",
       "      <td>homegrown consumption of web services i have b...</td>\n",
       "      <td>[.net]</td>\n",
       "    </tr>\n",
       "    <tr>\n",
       "      <th>8</th>\n",
       "      <td>automatically update version number i would li...</td>\n",
       "      <td>[c#]</td>\n",
       "    </tr>\n",
       "  </tbody>\n",
       "</table>\n",
       "</div>"
      ],
      "text/plain": [
       "                                                Text            Tags\n",
       "2  aspnet site maps has anyone got experience cre...  [sql, asp.net]\n",
       "4  adding scripting functionality to net applicat...      [c#, .net]\n",
       "5  should i use nested classes in this case i am ...           [c++]\n",
       "6  homegrown consumption of web services i have b...          [.net]\n",
       "8  automatically update version number i would li...            [c#]"
      ]
     },
     "execution_count": 8,
     "metadata": {},
     "output_type": "execute_result"
    }
   ],
   "source": [
    "df.head()"
   ]
  },
  {
   "cell_type": "markdown",
   "id": "69f3cb34",
   "metadata": {},
   "source": [
    "### Predictive ML part"
   ]
  },
  {
   "cell_type": "code",
   "execution_count": 9,
   "id": "cd9c46a4",
   "metadata": {},
   "outputs": [],
   "source": [
    "from sklearn.feature_extraction.text import TfidfVectorizer\n",
    "from sklearn.preprocessing import MultiLabelBinarizer\n",
    "from sklearn.model_selection import train_test_split\n",
    "\n",
    "from sklearn.linear_model import SGDClassifier\n",
    "from sklearn.linear_model import LogisticRegression\n",
    "from sklearn.svm import LinearSVC\n",
    "\n",
    "from sklearn.multiclass import OneVsRestClassifier"
   ]
  },
  {
   "cell_type": "code",
   "execution_count": 10,
   "id": "73aa68e0",
   "metadata": {},
   "outputs": [],
   "source": [
    "y = df['Tags']"
   ]
  },
  {
   "cell_type": "code",
   "execution_count": 11,
   "id": "4a25f03b",
   "metadata": {},
   "outputs": [
    {
     "data": {
      "text/plain": [
       "2    [sql, asp.net]\n",
       "4        [c#, .net]\n",
       "5             [c++]\n",
       "6            [.net]\n",
       "8              [c#]\n",
       "Name: Tags, dtype: object"
      ]
     },
     "execution_count": 11,
     "metadata": {},
     "output_type": "execute_result"
    }
   ],
   "source": [
    "y.head()"
   ]
  },
  {
   "cell_type": "code",
   "execution_count": 12,
   "id": "1e06c4c0",
   "metadata": {},
   "outputs": [],
   "source": [
    "multilabel = MultiLabelBinarizer()"
   ]
  },
  {
   "cell_type": "code",
   "execution_count": 13,
   "id": "4069b800",
   "metadata": {},
   "outputs": [],
   "source": [
    "y = multilabel.fit_transform(df['Tags'])"
   ]
  },
  {
   "cell_type": "code",
   "execution_count": 14,
   "id": "deddcb38",
   "metadata": {},
   "outputs": [
    {
     "data": {
      "text/plain": [
       "array([[0, 0, 1, ..., 0, 0, 1],\n",
       "       [1, 0, 0, ..., 0, 0, 0],\n",
       "       [0, 0, 0, ..., 0, 0, 0],\n",
       "       ...,\n",
       "       [0, 0, 0, ..., 0, 0, 0],\n",
       "       [0, 0, 0, ..., 0, 0, 0],\n",
       "       [0, 0, 0, ..., 0, 0, 0]])"
      ]
     },
     "execution_count": 14,
     "metadata": {},
     "output_type": "execute_result"
    }
   ],
   "source": [
    "y"
   ]
  },
  {
   "cell_type": "code",
   "execution_count": 15,
   "id": "7dd193ed",
   "metadata": {},
   "outputs": [
    {
     "data": {
      "text/plain": [
       "array(['.net', 'android', 'asp.net', 'c', 'c#', 'c++', 'css', 'html',\n",
       "       'ios', 'iphone', 'java', 'javascript', 'jquery', 'mysql',\n",
       "       'objective-c', 'php', 'python', 'ruby', 'ruby-on-rails', 'sql'],\n",
       "      dtype=object)"
      ]
     },
     "execution_count": 15,
     "metadata": {},
     "output_type": "execute_result"
    }
   ],
   "source": [
    "multilabel.classes_"
   ]
  },
  {
   "cell_type": "code",
   "execution_count": 16,
   "id": "6545c95f",
   "metadata": {},
   "outputs": [
    {
     "data": {
      "text/html": [
       "<div>\n",
       "<style scoped>\n",
       "    .dataframe tbody tr th:only-of-type {\n",
       "        vertical-align: middle;\n",
       "    }\n",
       "\n",
       "    .dataframe tbody tr th {\n",
       "        vertical-align: top;\n",
       "    }\n",
       "\n",
       "    .dataframe thead th {\n",
       "        text-align: right;\n",
       "    }\n",
       "</style>\n",
       "<table border=\"1\" class=\"dataframe\">\n",
       "  <thead>\n",
       "    <tr style=\"text-align: right;\">\n",
       "      <th></th>\n",
       "      <th>.net</th>\n",
       "      <th>android</th>\n",
       "      <th>asp.net</th>\n",
       "      <th>c</th>\n",
       "      <th>c#</th>\n",
       "      <th>c++</th>\n",
       "      <th>css</th>\n",
       "      <th>html</th>\n",
       "      <th>ios</th>\n",
       "      <th>iphone</th>\n",
       "      <th>java</th>\n",
       "      <th>javascript</th>\n",
       "      <th>jquery</th>\n",
       "      <th>mysql</th>\n",
       "      <th>objective-c</th>\n",
       "      <th>php</th>\n",
       "      <th>python</th>\n",
       "      <th>ruby</th>\n",
       "      <th>ruby-on-rails</th>\n",
       "      <th>sql</th>\n",
       "    </tr>\n",
       "  </thead>\n",
       "  <tbody>\n",
       "    <tr>\n",
       "      <th>0</th>\n",
       "      <td>0</td>\n",
       "      <td>0</td>\n",
       "      <td>1</td>\n",
       "      <td>0</td>\n",
       "      <td>0</td>\n",
       "      <td>0</td>\n",
       "      <td>0</td>\n",
       "      <td>0</td>\n",
       "      <td>0</td>\n",
       "      <td>0</td>\n",
       "      <td>0</td>\n",
       "      <td>0</td>\n",
       "      <td>0</td>\n",
       "      <td>0</td>\n",
       "      <td>0</td>\n",
       "      <td>0</td>\n",
       "      <td>0</td>\n",
       "      <td>0</td>\n",
       "      <td>0</td>\n",
       "      <td>1</td>\n",
       "    </tr>\n",
       "    <tr>\n",
       "      <th>1</th>\n",
       "      <td>1</td>\n",
       "      <td>0</td>\n",
       "      <td>0</td>\n",
       "      <td>0</td>\n",
       "      <td>1</td>\n",
       "      <td>0</td>\n",
       "      <td>0</td>\n",
       "      <td>0</td>\n",
       "      <td>0</td>\n",
       "      <td>0</td>\n",
       "      <td>0</td>\n",
       "      <td>0</td>\n",
       "      <td>0</td>\n",
       "      <td>0</td>\n",
       "      <td>0</td>\n",
       "      <td>0</td>\n",
       "      <td>0</td>\n",
       "      <td>0</td>\n",
       "      <td>0</td>\n",
       "      <td>0</td>\n",
       "    </tr>\n",
       "    <tr>\n",
       "      <th>2</th>\n",
       "      <td>0</td>\n",
       "      <td>0</td>\n",
       "      <td>0</td>\n",
       "      <td>0</td>\n",
       "      <td>0</td>\n",
       "      <td>1</td>\n",
       "      <td>0</td>\n",
       "      <td>0</td>\n",
       "      <td>0</td>\n",
       "      <td>0</td>\n",
       "      <td>0</td>\n",
       "      <td>0</td>\n",
       "      <td>0</td>\n",
       "      <td>0</td>\n",
       "      <td>0</td>\n",
       "      <td>0</td>\n",
       "      <td>0</td>\n",
       "      <td>0</td>\n",
       "      <td>0</td>\n",
       "      <td>0</td>\n",
       "    </tr>\n",
       "    <tr>\n",
       "      <th>3</th>\n",
       "      <td>1</td>\n",
       "      <td>0</td>\n",
       "      <td>0</td>\n",
       "      <td>0</td>\n",
       "      <td>0</td>\n",
       "      <td>0</td>\n",
       "      <td>0</td>\n",
       "      <td>0</td>\n",
       "      <td>0</td>\n",
       "      <td>0</td>\n",
       "      <td>0</td>\n",
       "      <td>0</td>\n",
       "      <td>0</td>\n",
       "      <td>0</td>\n",
       "      <td>0</td>\n",
       "      <td>0</td>\n",
       "      <td>0</td>\n",
       "      <td>0</td>\n",
       "      <td>0</td>\n",
       "      <td>0</td>\n",
       "    </tr>\n",
       "    <tr>\n",
       "      <th>4</th>\n",
       "      <td>0</td>\n",
       "      <td>0</td>\n",
       "      <td>0</td>\n",
       "      <td>0</td>\n",
       "      <td>1</td>\n",
       "      <td>0</td>\n",
       "      <td>0</td>\n",
       "      <td>0</td>\n",
       "      <td>0</td>\n",
       "      <td>0</td>\n",
       "      <td>0</td>\n",
       "      <td>0</td>\n",
       "      <td>0</td>\n",
       "      <td>0</td>\n",
       "      <td>0</td>\n",
       "      <td>0</td>\n",
       "      <td>0</td>\n",
       "      <td>0</td>\n",
       "      <td>0</td>\n",
       "      <td>0</td>\n",
       "    </tr>\n",
       "    <tr>\n",
       "      <th>...</th>\n",
       "      <td>...</td>\n",
       "      <td>...</td>\n",
       "      <td>...</td>\n",
       "      <td>...</td>\n",
       "      <td>...</td>\n",
       "      <td>...</td>\n",
       "      <td>...</td>\n",
       "      <td>...</td>\n",
       "      <td>...</td>\n",
       "      <td>...</td>\n",
       "      <td>...</td>\n",
       "      <td>...</td>\n",
       "      <td>...</td>\n",
       "      <td>...</td>\n",
       "      <td>...</td>\n",
       "      <td>...</td>\n",
       "      <td>...</td>\n",
       "      <td>...</td>\n",
       "      <td>...</td>\n",
       "      <td>...</td>\n",
       "    </tr>\n",
       "    <tr>\n",
       "      <th>48971</th>\n",
       "      <td>0</td>\n",
       "      <td>0</td>\n",
       "      <td>0</td>\n",
       "      <td>0</td>\n",
       "      <td>0</td>\n",
       "      <td>1</td>\n",
       "      <td>0</td>\n",
       "      <td>0</td>\n",
       "      <td>0</td>\n",
       "      <td>0</td>\n",
       "      <td>0</td>\n",
       "      <td>0</td>\n",
       "      <td>0</td>\n",
       "      <td>0</td>\n",
       "      <td>0</td>\n",
       "      <td>0</td>\n",
       "      <td>0</td>\n",
       "      <td>0</td>\n",
       "      <td>0</td>\n",
       "      <td>0</td>\n",
       "    </tr>\n",
       "    <tr>\n",
       "      <th>48972</th>\n",
       "      <td>0</td>\n",
       "      <td>0</td>\n",
       "      <td>0</td>\n",
       "      <td>0</td>\n",
       "      <td>0</td>\n",
       "      <td>1</td>\n",
       "      <td>0</td>\n",
       "      <td>0</td>\n",
       "      <td>0</td>\n",
       "      <td>0</td>\n",
       "      <td>0</td>\n",
       "      <td>0</td>\n",
       "      <td>0</td>\n",
       "      <td>0</td>\n",
       "      <td>0</td>\n",
       "      <td>0</td>\n",
       "      <td>0</td>\n",
       "      <td>0</td>\n",
       "      <td>0</td>\n",
       "      <td>0</td>\n",
       "    </tr>\n",
       "    <tr>\n",
       "      <th>48973</th>\n",
       "      <td>0</td>\n",
       "      <td>0</td>\n",
       "      <td>0</td>\n",
       "      <td>0</td>\n",
       "      <td>0</td>\n",
       "      <td>0</td>\n",
       "      <td>0</td>\n",
       "      <td>0</td>\n",
       "      <td>0</td>\n",
       "      <td>0</td>\n",
       "      <td>0</td>\n",
       "      <td>0</td>\n",
       "      <td>0</td>\n",
       "      <td>0</td>\n",
       "      <td>0</td>\n",
       "      <td>0</td>\n",
       "      <td>1</td>\n",
       "      <td>0</td>\n",
       "      <td>0</td>\n",
       "      <td>0</td>\n",
       "    </tr>\n",
       "    <tr>\n",
       "      <th>48974</th>\n",
       "      <td>0</td>\n",
       "      <td>0</td>\n",
       "      <td>0</td>\n",
       "      <td>0</td>\n",
       "      <td>0</td>\n",
       "      <td>0</td>\n",
       "      <td>0</td>\n",
       "      <td>0</td>\n",
       "      <td>0</td>\n",
       "      <td>0</td>\n",
       "      <td>0</td>\n",
       "      <td>0</td>\n",
       "      <td>0</td>\n",
       "      <td>0</td>\n",
       "      <td>0</td>\n",
       "      <td>0</td>\n",
       "      <td>1</td>\n",
       "      <td>0</td>\n",
       "      <td>0</td>\n",
       "      <td>0</td>\n",
       "    </tr>\n",
       "    <tr>\n",
       "      <th>48975</th>\n",
       "      <td>0</td>\n",
       "      <td>0</td>\n",
       "      <td>0</td>\n",
       "      <td>0</td>\n",
       "      <td>0</td>\n",
       "      <td>1</td>\n",
       "      <td>0</td>\n",
       "      <td>0</td>\n",
       "      <td>0</td>\n",
       "      <td>0</td>\n",
       "      <td>0</td>\n",
       "      <td>0</td>\n",
       "      <td>0</td>\n",
       "      <td>0</td>\n",
       "      <td>0</td>\n",
       "      <td>0</td>\n",
       "      <td>0</td>\n",
       "      <td>0</td>\n",
       "      <td>0</td>\n",
       "      <td>0</td>\n",
       "    </tr>\n",
       "  </tbody>\n",
       "</table>\n",
       "<p>48976 rows × 20 columns</p>\n",
       "</div>"
      ],
      "text/plain": [
       "       .net  android  asp.net  c  c#  c++  css  html  ios  iphone  java  \\\n",
       "0         0        0        1  0   0    0    0     0    0       0     0   \n",
       "1         1        0        0  0   1    0    0     0    0       0     0   \n",
       "2         0        0        0  0   0    1    0     0    0       0     0   \n",
       "3         1        0        0  0   0    0    0     0    0       0     0   \n",
       "4         0        0        0  0   1    0    0     0    0       0     0   \n",
       "...     ...      ...      ... ..  ..  ...  ...   ...  ...     ...   ...   \n",
       "48971     0        0        0  0   0    1    0     0    0       0     0   \n",
       "48972     0        0        0  0   0    1    0     0    0       0     0   \n",
       "48973     0        0        0  0   0    0    0     0    0       0     0   \n",
       "48974     0        0        0  0   0    0    0     0    0       0     0   \n",
       "48975     0        0        0  0   0    1    0     0    0       0     0   \n",
       "\n",
       "       javascript  jquery  mysql  objective-c  php  python  ruby  \\\n",
       "0               0       0      0            0    0       0     0   \n",
       "1               0       0      0            0    0       0     0   \n",
       "2               0       0      0            0    0       0     0   \n",
       "3               0       0      0            0    0       0     0   \n",
       "4               0       0      0            0    0       0     0   \n",
       "...           ...     ...    ...          ...  ...     ...   ...   \n",
       "48971           0       0      0            0    0       0     0   \n",
       "48972           0       0      0            0    0       0     0   \n",
       "48973           0       0      0            0    0       1     0   \n",
       "48974           0       0      0            0    0       1     0   \n",
       "48975           0       0      0            0    0       0     0   \n",
       "\n",
       "       ruby-on-rails  sql  \n",
       "0                  0    1  \n",
       "1                  0    0  \n",
       "2                  0    0  \n",
       "3                  0    0  \n",
       "4                  0    0  \n",
       "...              ...  ...  \n",
       "48971              0    0  \n",
       "48972              0    0  \n",
       "48973              0    0  \n",
       "48974              0    0  \n",
       "48975              0    0  \n",
       "\n",
       "[48976 rows x 20 columns]"
      ]
     },
     "execution_count": 16,
     "metadata": {},
     "output_type": "execute_result"
    }
   ],
   "source": [
    "pd.DataFrame(y, columns=multilabel.classes_)"
   ]
  },
  {
   "cell_type": "code",
   "execution_count": 17,
   "id": "1c4120b0",
   "metadata": {},
   "outputs": [],
   "source": [
    "tfidf = TfidfVectorizer(analyzer='word', max_features=10000, ngram_range=(1,2))"
   ]
  },
  {
   "cell_type": "code",
   "execution_count": 18,
   "id": "91c37a58",
   "metadata": {},
   "outputs": [],
   "source": [
    "X = tfidf.fit_transform(df['Text'])"
   ]
  },
  {
   "cell_type": "code",
   "execution_count": 19,
   "id": "c1931ed8",
   "metadata": {},
   "outputs": [
    {
     "data": {
      "text/plain": [
       "(48976, 10000)"
      ]
     },
     "execution_count": 19,
     "metadata": {},
     "output_type": "execute_result"
    }
   ],
   "source": [
    "X.shape"
   ]
  },
  {
   "cell_type": "code",
   "execution_count": 20,
   "id": "d82b1777",
   "metadata": {},
   "outputs": [
    {
     "data": {
      "text/plain": [
       "(48976, 20)"
      ]
     },
     "execution_count": 20,
     "metadata": {},
     "output_type": "execute_result"
    }
   ],
   "source": [
    "y.shape"
   ]
  },
  {
   "cell_type": "code",
   "execution_count": 21,
   "id": "c173d70c",
   "metadata": {},
   "outputs": [],
   "source": [
    "X_train, X_test, y_train, y_test = train_test_split(X, y, test_size=0.2, random_state=0)"
   ]
  },
  {
   "cell_type": "markdown",
   "id": "9410f993",
   "metadata": {},
   "source": [
    "### Build Model"
   ]
  },
  {
   "cell_type": "code",
   "execution_count": 22,
   "id": "081e2ce5",
   "metadata": {},
   "outputs": [],
   "source": [
    "sgd = SGDClassifier()\n",
    "lr = LogisticRegression(solver='lbfgs')\n",
    "svc = LinearSVC()"
   ]
  },
  {
   "cell_type": "code",
   "execution_count": 23,
   "id": "ecd5083b",
   "metadata": {},
   "outputs": [],
   "source": [
    "def j_score(y_true, y_pred):\n",
    "    jaccard = np.minimum(y_true, y_pred).sum(axis=1)/np.maximum(y_true, y_pred).sum(axis = 1)\n",
    "    return jaccard.mean()*100\n",
    "\n",
    "def print_score(y_pred, clf):\n",
    "    print(\"Clf : \", clf.__class__.__name__)\n",
    "    print('Jacard score: {}'.format(j_score(y_test, y_pred)))\n",
    "    print('----')"
   ]
  },
  {
   "cell_type": "code",
   "execution_count": 24,
   "id": "6bc0e875",
   "metadata": {},
   "outputs": [
    {
     "name": "stdout",
     "output_type": "stream",
     "text": [
      "Clf :  SGDClassifier\n",
      "Jacard score: 48.70950728188376\n",
      "----\n"
     ]
    },
    {
     "name": "stderr",
     "output_type": "stream",
     "text": [
      "/Users/sidchiku9/opt/anaconda3/lib/python3.9/site-packages/sklearn/linear_model/_logistic.py:814: ConvergenceWarning: lbfgs failed to converge (status=1):\n",
      "STOP: TOTAL NO. of ITERATIONS REACHED LIMIT.\n",
      "\n",
      "Increase the number of iterations (max_iter) or scale the data as shown in:\n",
      "    https://scikit-learn.org/stable/modules/preprocessing.html\n",
      "Please also refer to the documentation for alternative solver options:\n",
      "    https://scikit-learn.org/stable/modules/linear_model.html#logistic-regression\n",
      "  n_iter_i = _check_optimize_result(\n"
     ]
    },
    {
     "name": "stdout",
     "output_type": "stream",
     "text": [
      "Clf :  LogisticRegression\n",
      "Jacard score: 47.757928406152175\n",
      "----\n",
      "Clf :  LinearSVC\n",
      "Jacard score: 60.01224989791753\n",
      "----\n"
     ]
    }
   ],
   "source": [
    "for classifier in [sgd, lr, svc] :\n",
    "    clf = OneVsRestClassifier(classifier)\n",
    "    clf.fit(X_train, y_train)\n",
    "    y_pred = clf.predict(X_test)\n",
    "    print_score(y_pred, classifier)"
   ]
  },
  {
   "cell_type": "code",
   "execution_count": null,
   "id": "234cbc98",
   "metadata": {},
   "outputs": [],
   "source": [
    "### testing with data"
   ]
  },
  {
   "cell_type": "markdown",
   "id": "a574e367",
   "metadata": {},
   "source": [
    "### Real time testing"
   ]
  },
  {
   "cell_type": "code",
   "execution_count": 25,
   "id": "1dafbb9e",
   "metadata": {},
   "outputs": [],
   "source": [
    "x = [ 'how to write ml code in python and java i have data but do not know how to do it']"
   ]
  },
  {
   "cell_type": "code",
   "execution_count": 26,
   "id": "5e2edf0d",
   "metadata": {},
   "outputs": [],
   "source": [
    "xt = tfidf.transform(x)"
   ]
  },
  {
   "cell_type": "code",
   "execution_count": 27,
   "id": "66b6b794",
   "metadata": {},
   "outputs": [
    {
     "data": {
      "text/plain": [
       "array([[0, 0, 0, 0, 0, 0, 0, 0, 0, 0, 1, 0, 0, 0, 0, 0, 1, 0, 0, 0]])"
      ]
     },
     "execution_count": 27,
     "metadata": {},
     "output_type": "execute_result"
    }
   ],
   "source": [
    "clf.predict(xt)"
   ]
  },
  {
   "cell_type": "code",
   "execution_count": 28,
   "id": "00e5aaff",
   "metadata": {},
   "outputs": [
    {
     "data": {
      "text/plain": [
       "[('java', 'python')]"
      ]
     },
     "execution_count": 28,
     "metadata": {},
     "output_type": "execute_result"
    }
   ],
   "source": [
    "multilabel.inverse_transform(clf.predict(xt))"
   ]
  },
  {
   "cell_type": "code",
   "execution_count": 29,
   "id": "c0a3683f",
   "metadata": {},
   "outputs": [],
   "source": [
    "y = [ 'homegrown consumption of web services i have been writing a few web services for a net app now i am ready to consume them i have seen numerous examples where there is homegrown code for consuming the service as opposed to using the auto generated methods visual studio creates when adding the web reference is there some advantage to this']"
   ]
  },
  {
   "cell_type": "code",
   "execution_count": 30,
   "id": "9899ed69",
   "metadata": {},
   "outputs": [
    {
     "data": {
      "text/plain": [
       "[('.net', 'c#')]"
      ]
     },
     "execution_count": 30,
     "metadata": {},
     "output_type": "execute_result"
    }
   ],
   "source": [
    "yt = tfidf.transform(y)\n",
    "clf.predict(yt)\n",
    "multilabel.inverse_transform(clf.predict(yt))"
   ]
  },
  {
   "cell_type": "code",
   "execution_count": null,
   "id": "f4dc1bc8",
   "metadata": {},
   "outputs": [],
   "source": []
  }
 ],
 "metadata": {
  "kernelspec": {
   "display_name": "Python 3 (ipykernel)",
   "language": "python",
   "name": "python3"
  },
  "language_info": {
   "codemirror_mode": {
    "name": "ipython",
    "version": 3
   },
   "file_extension": ".py",
   "mimetype": "text/x-python",
   "name": "python",
   "nbconvert_exporter": "python",
   "pygments_lexer": "ipython3",
   "version": "3.9.12"
  }
 },
 "nbformat": 4,
 "nbformat_minor": 5
}
